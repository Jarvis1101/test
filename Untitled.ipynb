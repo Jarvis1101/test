{
 "cells": [
  {
   "cell_type": "code",
   "execution_count": 19,
   "id": "b6a124a1",
   "metadata": {},
   "outputs": [],
   "source": [
    "import elasticsearch\n",
    "from elasticsearch import Elasticsearch"
   ]
  },
  {
   "cell_type": "code",
   "execution_count": 20,
   "id": "fae0f46b",
   "metadata": {},
   "outputs": [],
   "source": [
    "host = 'opensearch-staging-v2-gotoko-staging.aivencloud.com'\n",
    "port = 16180\n",
    "auth = ('avn_data', 'AVNS_T5Xo6TUzigIVy1nz6Fz')"
   ]
  },
  {
   "cell_type": "code",
   "execution_count": 21,
   "id": "b46a8ef5",
   "metadata": {},
   "outputs": [],
   "source": [
    "es=Elasticsearch([{\"host\":host,\"port\":port,\"scheme\":\"http\",}])"
   ]
  },
  {
   "cell_type": "code",
   "execution_count": 22,
   "id": "a0b1e6b6",
   "metadata": {},
   "outputs": [
    {
     "name": "stdout",
     "output_type": "stream",
     "text": [
      "False\n"
     ]
    }
   ],
   "source": [
    "print(es.ping())"
   ]
  },
  {
   "cell_type": "code",
   "execution_count": null,
   "id": "3d1f3836",
   "metadata": {},
   "outputs": [],
   "source": []
  }
 ],
 "metadata": {
  "kernelspec": {
   "display_name": "Python 3 (ipykernel)",
   "language": "python",
   "name": "python3"
  },
  "language_info": {
   "codemirror_mode": {
    "name": "ipython",
    "version": 3
   },
   "file_extension": ".py",
   "mimetype": "text/x-python",
   "name": "python",
   "nbconvert_exporter": "python",
   "pygments_lexer": "ipython3",
   "version": "3.9.13"
  }
 },
 "nbformat": 4,
 "nbformat_minor": 5
}
